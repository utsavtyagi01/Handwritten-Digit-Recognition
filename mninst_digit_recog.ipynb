{
  "cells": [
    {
      "cell_type": "code",
      "execution_count": 2,
      "metadata": {
        "id": "PP-SH1bnh4Wf"
      },
      "outputs": [],
      "source": [
        "EPOCHS: int = 15\n",
        "BATCH_SIZE: int = 128\n",
        "TEST_SIZE: float = 0.1\n",
        "TEST_BATCH_SIZE: int = 64\n",
        "RANDOM_STATE: int = 42\n",
        "IMAGE_SHAPE: tuple = (28, 28, 1)"
      ]
    },
    {
      "cell_type": "code",
      "execution_count": 3,
      "metadata": {
        "id": "ECIezCQPA5uW"
      },
      "outputs": [],
      "source": [
        "from keras.datasets import mnist\n",
        "(x_train, y_train), (x_test, y_test) = mnist.load_data()"
      ]
    },
    {
      "cell_type": "code",
      "execution_count": 4,
      "metadata": {},
      "outputs": [
        {
          "data": {
            "text/plain": [
              "array([5, 0, 4, ..., 5, 6, 8], dtype=uint8)"
            ]
          },
          "execution_count": 4,
          "metadata": {},
          "output_type": "execute_result"
        }
      ],
      "source": [
        "y_train"
      ]
    },
    {
      "cell_type": "code",
      "execution_count": 5,
      "metadata": {
        "id": "pf2yDWrKimAL"
      },
      "outputs": [],
      "source": [
        "import numpy as np\n",
        "from keras.utils.np_utils import to_categorical\n",
        "from sklearn.model_selection import train_test_split\n",
        "\n",
        "x_train = x_train.astype('float32') / 255.0\n",
        "x_test = x_test.astype('float32') / 255.0\n",
        "\n",
        "y_train = to_categorical(y_train, num_classes=10)\n",
        "y_test = to_categorical(y_test, num_classes=10)\n",
        "\n",
        "x_train, x_val, y_train, y_val = train_test_split(x_train,y_train,test_size=TEST_SIZE,random_state=RANDOM_STATE)\n",
        "x_test_copy = np.array(x_test, copy=True)  "
      ]
    },
    {
      "cell_type": "code",
      "execution_count": 6,
      "metadata": {},
      "outputs": [
        {
          "data": {
            "text/plain": [
              "array([[0., 1., 0., ..., 0., 0., 0.],\n",
              "       [0., 0., 0., ..., 0., 0., 0.],\n",
              "       [0., 0., 0., ..., 0., 0., 0.],\n",
              "       ...,\n",
              "       [1., 0., 0., ..., 0., 0., 0.],\n",
              "       [1., 0., 0., ..., 0., 0., 0.],\n",
              "       [0., 0., 0., ..., 0., 0., 0.]], dtype=float32)"
            ]
          },
          "execution_count": 6,
          "metadata": {},
          "output_type": "execute_result"
        }
      ],
      "source": [
        "y_train"
      ]
    },
    {
      "cell_type": "code",
      "execution_count": 16,
      "metadata": {
        "colab": {
          "base_uri": "https://localhost:8080/"
        },
        "id": "bPCs0W3OkQy4",
        "outputId": "faf73f63-ed6f-472a-d35d-c62ddd6fadbd"
      },
      "outputs": [
        {
          "name": "stdout",
          "output_type": "stream",
          "text": [
            "__________ Shapes of Data __________ \n",
            "\n",
            "x_train shape: (54000, 28, 28, 1)\n",
            "y_train shape: (54000, 10) \n",
            "\n",
            "x_val shape: (6000, 28, 28, 1)\n",
            "y_val shape: (6000, 10) \n",
            "\n",
            "x_test shape: (10000, 28, 28, 1)\n",
            "y_test shape: (10000, 10) \n",
            "\n",
            "__________ Samples __________ \n",
            "\n",
            "train samples: 54000\n",
            "validation samples: 6000\n",
            "test samples: 10000 \n",
            "\n"
          ]
        }
      ],
      "source": [
        "x_train = x_train.reshape(x_train.shape[0], 28, 28, 1)\n",
        "x_val = x_val.reshape(x_val.shape[0], 28, 28, 1)\n",
        "x_test = x_test.reshape(x_test.shape[0], 28, 28, 1)\n",
        "\n",
        "print('__'*5 ,'Shapes of Data', '__'*5,'\\n')\n",
        "\n",
        "print(f'x_train shape: {x_train.shape}')\n",
        "print(f'y_train shape: {y_train.shape}', '\\n')\n",
        "\n",
        "print(f'x_val shape: {x_val.shape}')\n",
        "print(f'y_val shape: {y_val.shape}', '\\n')\n",
        "\n",
        "print(f'x_test shape: {x_test.shape}')\n",
        "print(f'y_test shape: {y_test.shape}', '\\n')\n",
        "\n",
        "print('__'*5,'Samples','__'*5, '\\n')\n",
        "\n",
        "print(f'train samples: {x_train.shape[0]}')\n",
        "print(f'validation samples: {x_val.shape[0]}')\n",
        "print(f'test samples: {x_test.shape[0]}', '\\n')"
      ]
    },
    {
      "cell_type": "code",
      "execution_count": 19,
      "metadata": {
        "colab": {
          "base_uri": "https://localhost:8080/"
        },
        "id": "YA6cJIgaA_TI",
        "outputId": "1caab5ba-88d6-4461-ee78-2073e1ae6c90"
      },
      "outputs": [
        {
          "name": "stdout",
          "output_type": "stream",
          "text": [
            "______________________________ Building the CNN model ______________________________ \n",
            "\n",
            "Model: \"sequential_2\"\n",
            "_________________________________________________________________\n",
            " Layer (type)                Output Shape              Param #   \n",
            "=================================================================\n",
            " conv2d_4 (Conv2D)           (None, 26, 26, 32)        320       \n",
            "                                                                 \n",
            " conv2d_5 (Conv2D)           (None, 24, 24, 64)        18496     \n",
            "                                                                 \n",
            " max_pooling2d_2 (MaxPooling  (None, 12, 12, 64)       0         \n",
            " 2D)                                                             \n",
            "                                                                 \n",
            " dropout_4 (Dropout)         (None, 12, 12, 64)        0         \n",
            "                                                                 \n",
            " flatten_2 (Flatten)         (None, 9216)              0         \n",
            "                                                                 \n",
            " dense_4 (Dense)             (None, 128)               1179776   \n",
            "                                                                 \n",
            " dropout_5 (Dropout)         (None, 128)               0         \n",
            "                                                                 \n",
            " dense_5 (Dense)             (None, 10)                1290      \n",
            "                                                                 \n",
            "=================================================================\n",
            "Total params: 1,199,882\n",
            "Trainable params: 1,199,882\n",
            "Non-trainable params: 0\n",
            "_________________________________________________________________\n"
          ]
        }
      ],
      "source": [
        "from tensorflow.keras import Input, Sequential, layers\n",
        "\n",
        "print('__'*15,'Building the CNN model', '__'*15,'\\n')\n",
        "model = Sequential([\n",
        "                    layers.Conv2D(32, kernel_size=(3, 3), activation='relu', input_shape=IMAGE_SHAPE),\n",
        "                    layers.Conv2D(64, (3, 3), activation='relu'),\n",
        "                    layers.MaxPool2D(pool_size=(2, 2)),\n",
        "                    layers.Dropout(0.25),\n",
        "                    layers.Flatten(),\n",
        "                    layers.Dense(128, activation='relu'),\n",
        "                    layers.Dropout(0.5),\n",
        "                    layers.Dense(10, activation='softmax')\n",
        "])\n",
        "\n",
        "model.summary()"
      ]
    },
    {
      "cell_type": "code",
      "execution_count": 20,
      "metadata": {
        "colab": {
          "base_uri": "https://localhost:8080/"
        },
        "id": "Iz2aHKlIF7i2",
        "outputId": "dd4c385f-51d4-4a64-dab5-02c4293185bb"
      },
      "outputs": [
        {
          "name": "stdout",
          "output_type": "stream",
          "text": [
            "______________________________ |== Training the model ==| ______________________________ \n",
            "\n",
            "Epoch 1/15\n",
            "422/422 [==============================] - 45s 92ms/step - loss: 0.2506 - accuracy: 0.9224 - val_loss: 0.0596 - val_accuracy: 0.9835\n",
            "Epoch 2/15\n",
            "422/422 [==============================] - 47s 111ms/step - loss: 0.0883 - accuracy: 0.9736 - val_loss: 0.0486 - val_accuracy: 0.9853\n",
            "Epoch 3/15\n",
            "422/422 [==============================] - 52s 123ms/step - loss: 0.0653 - accuracy: 0.9805 - val_loss: 0.0399 - val_accuracy: 0.9892\n",
            "Epoch 4/15\n",
            "422/422 [==============================] - 49s 117ms/step - loss: 0.0539 - accuracy: 0.9837 - val_loss: 0.0354 - val_accuracy: 0.9897\n",
            "Epoch 5/15\n",
            "422/422 [==============================] - 51s 120ms/step - loss: 0.0443 - accuracy: 0.9866 - val_loss: 0.0352 - val_accuracy: 0.9903\n",
            "Epoch 6/15\n",
            "422/422 [==============================] - 45s 107ms/step - loss: 0.0410 - accuracy: 0.9872 - val_loss: 0.0309 - val_accuracy: 0.9918\n",
            "Epoch 7/15\n",
            "422/422 [==============================] - 40s 95ms/step - loss: 0.0341 - accuracy: 0.9894 - val_loss: 0.0324 - val_accuracy: 0.9915\n",
            "Epoch 8/15\n",
            "422/422 [==============================] - 34s 80ms/step - loss: 0.0325 - accuracy: 0.9897 - val_loss: 0.0340 - val_accuracy: 0.9903\n",
            "Epoch 9/15\n",
            "422/422 [==============================] - 35s 84ms/step - loss: 0.0301 - accuracy: 0.9902 - val_loss: 0.0309 - val_accuracy: 0.9918\n",
            "Epoch 10/15\n",
            "422/422 [==============================] - 39s 92ms/step - loss: 0.0258 - accuracy: 0.9916 - val_loss: 0.0345 - val_accuracy: 0.9915\n",
            "Epoch 11/15\n",
            "422/422 [==============================] - 32s 76ms/step - loss: 0.0229 - accuracy: 0.9929 - val_loss: 0.0323 - val_accuracy: 0.9923\n",
            "Epoch 12/15\n",
            "422/422 [==============================] - 34s 80ms/step - loss: 0.0214 - accuracy: 0.9929 - val_loss: 0.0308 - val_accuracy: 0.9932\n",
            "Epoch 13/15\n",
            "422/422 [==============================] - 38s 90ms/step - loss: 0.0209 - accuracy: 0.9931 - val_loss: 0.0321 - val_accuracy: 0.9920\n",
            "Epoch 14/15\n",
            "422/422 [==============================] - 31s 73ms/step - loss: 0.0199 - accuracy: 0.9934 - val_loss: 0.0368 - val_accuracy: 0.9922\n",
            "Epoch 15/15\n",
            "422/422 [==============================] - 29s 68ms/step - loss: 0.0169 - accuracy: 0.9945 - val_loss: 0.0344 - val_accuracy: 0.9922\n"
          ]
        }
      ],
      "source": [
        "from tensorflow.keras.optimizers import Adam\n",
        "\n",
        "adam = Adam()\n",
        "model.compile(loss='categorical_crossentropy',optimizer=adam, metrics=['accuracy'])\n",
        "\n",
        "print('__'*15,'|== Training the model ==|','__'*15, '\\n')\n",
        "history = model.fit(x_train, y_train,validation_data=(x_val, y_val), epochs=EPOCHS,batch_size=BATCH_SIZE)"
      ]
    },
    {
      "cell_type": "code",
      "execution_count": 21,
      "metadata": {
        "colab": {
          "base_uri": "https://localhost:8080/"
        },
        "id": "WH7ZBUWJGooD",
        "outputId": "7e47216c-5b56-4e3e-fa15-85f1050a29b8"
      },
      "outputs": [
        {
          "name": "stdout",
          "output_type": "stream",
          "text": [
            "______________________________ Evaluating the model ______________________________ \n",
            "\n",
            "157/157 [==============================] - 2s 9ms/step\n",
            "              precision    recall  f1-score   support\n",
            "\n",
            "           0       0.99      0.99      0.99       980\n",
            "           1       0.99      1.00      1.00      1135\n",
            "           2       0.98      1.00      0.99      1032\n",
            "           3       0.99      1.00      0.99      1010\n",
            "           4       0.99      1.00      0.99       982\n",
            "           5       0.99      0.99      0.99       892\n",
            "           6       0.99      0.99      0.99       958\n",
            "           7       0.99      0.99      0.99      1028\n",
            "           8       0.99      0.99      0.99       974\n",
            "           9       1.00      0.98      0.99      1009\n",
            "\n",
            "    accuracy                           0.99     10000\n",
            "   macro avg       0.99      0.99      0.99     10000\n",
            "weighted avg       0.99      0.99      0.99     10000\n",
            " \n",
            "\n",
            "Test accuracy: 0.9912\n"
          ]
        }
      ],
      "source": [
        "from sklearn.metrics import classification_report\n",
        "\n",
        "print('__'*15,'Evaluating the model', '__'*15,'\\n')\n",
        "\n",
        "target_names = [str(label) for label in range(10)]\n",
        "predictions = model.predict(x_test, batch_size=TEST_BATCH_SIZE)\n",
        "report = classification_report(y_test.argmax(axis=1),\n",
        "                               predictions.argmax(axis=1),\n",
        "                               target_names=target_names)\n",
        "print(report, '\\n')\n",
        "\n",
        "scores = model.evaluate(x_test, y_test, verbose=0)\n",
        "print(\"Test accuracy: {:.4f}\".format(scores[1]))"
      ]
    },
    {
      "cell_type": "code",
      "execution_count": 26,
      "metadata": {
        "colab": {
          "base_uri": "https://localhost:8080/",
          "height": 316
        },
        "id": "Vqnqti2fUxlp",
        "outputId": "f25f760c-fe74-45cd-803f-23f807157cd7"
      },
      "outputs": [
        {
          "data": {
            "text/plain": [
              "<matplotlib.legend.Legend at 0x18f55aca7d0>"
            ]
          },
          "execution_count": 26,
          "metadata": {},
          "output_type": "execute_result"
        },
        {
          "data": {
            "image/png": "[encoded data removed]",
            "text/plain": [
              "<Figure size 640x480 with 1 Axes>"
            ]
          },
          "metadata": {},
          "output_type": "display_data"
        }
      ],
      "source": [
        "import matplotlib.pyplot as plt\n",
        "\n",
        "plt.style.use('ggplot')\n",
        "plt.figure()\n",
        "\n",
        "epoch_values = list(range(EPOCHS))\n",
        "plt.plot(epoch_values, history.history['loss'], label='Cost function at training')\n",
        "plt.plot(epoch_values, history.history['val_loss'], label='Cost function at validation')\n",
        "plt.plot(epoch_values, history.history['accuracy'], label='Accuracy at training')\n",
        "plt.plot(epoch_values, history.history['val_accuracy'], label='Accuracy at validation')\n",
        "\n",
        "plt.title('Training history')\n",
        "plt.xlabel('Epoch N.')\n",
        "plt.ylabel('Loss/accuracy')\n",
        "plt.legend()"
      ]
    },
    {
      "cell_type": "code",
      "execution_count": null,
      "metadata": {},
      "outputs": [],
      "source": [
        "%pip install tensorflowjs"
      ]
    },
    {
      "cell_type": "code",
      "execution_count": 35,
      "metadata": {
        "id": "AKQMPDk6bI6P"
      },
      "outputs": [],
      "source": [
        "%rm keras.h5\n",
        "model.save('keras.h5')"
      ]
    },
    {
      "cell_type": "code",
      "execution_count": null,
      "metadata": {
        "id": "3IUP2u6wbgQA"
      },
      "outputs": [],
      "source": [
        "##%rm -r model\n",
        "%mkdir model\n",
        "\n",
        "!tensorflowjs_converter --input_format keras keras.h5 model/"
      ]
    },
    {
      "cell_type": "code",
      "execution_count": null,
      "metadata": {
        "colab": {
          "base_uri": "https://localhost:8080/",
          "height": 86
        },
        "id": "AuepXgg3bh4o",
        "outputId": "fec791c0-6b0b-48d4-ee75-7e6039f55062"
      },
      "outputs": [],
      "source": [
        "# Download model\n",
        "from google.colab import files\n",
        "!zip -r model.zip model\n",
        "files.download('model.zip')"
      ]
    }
  ],
  "metadata": {
    "colab": {
      "collapsed_sections": [],
      "name": "mninst_digit_recog.ipynb",
      "provenance": []
    },
    "kernelspec": {
      "display_name": "Python 3",
      "name": "python3"
    },
    "language_info": {
      "codemirror_mode": {
        "name": "ipython",
        "version": 3
      },
      "file_extension": ".py",
      "mimetype": "text/x-python",
      "name": "python",
      "nbconvert_exporter": "python",
      "pygments_lexer": "ipython3",
      "version": "3.10.11"
    }
  },
  "nbformat": 4,
  "nbformat_minor": 0
}
